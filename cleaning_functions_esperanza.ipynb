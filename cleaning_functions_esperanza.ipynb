{
 "cells": [
  {
   "cell_type": "code",
   "execution_count": 1,
   "id": "25562d68",
   "metadata": {},
   "outputs": [],
   "source": [
    "import pandas as pd\n",
    "import numpy as np"
   ]
  },
  {
   "cell_type": "code",
   "execution_count": 2,
   "id": "64289c40",
   "metadata": {},
   "outputs": [],
   "source": [
    "def esperanza_get_id(check_dict):\n",
    "    if pd.isnull(check_dict):\n",
    "        return check_dict\n",
    "    return check_dict['id']\n",
    "\n",
    "def esperanza_get_name(check_dict):\n",
    "    if pd.isnull(check_dict):\n",
    "        return check_dict\n",
    "    return check_dict['name']"
   ]
  },
  {
   "cell_type": "code",
   "execution_count": 3,
   "id": "7b0b46c0",
   "metadata": {},
   "outputs": [],
   "source": [
    "def esperanza_get_keyword_id(check_dict, keyword):\n",
    "    if pd.isnull(check_dict):\n",
    "        return check_dict\n",
    "    else:\n",
    "        return esperanza_get_id(check_dict.get(keyword))\n",
    "    \n",
    "def esperanza_get_keyword_name(check_dict, keyword):\n",
    "    if pd.isnull(check_dict):\n",
    "        return check_dict\n",
    "    else:\n",
    "        return esperanza_get_name(check_dict.get(keyword))"
   ]
  },
  {
   "cell_type": "code",
   "execution_count": 4,
   "id": "b79de56a",
   "metadata": {},
   "outputs": [],
   "source": [
    "def esperanza_coord_x(coord_list):\n",
    "    if len(coord_list) == 0:\n",
    "        return coord_list\n",
    "    return coord_list.str[0]\n",
    "\n",
    "def esperanza_coord_y(coord_list):\n",
    "    if len(coord_list) == 0:\n",
    "        return coord_list\n",
    "    return coord_list.str[1]\n",
    "\n",
    "def esperanza_coord_z(coord_list):\n",
    "    if len(coord_list) == 0:\n",
    "        return coord_list\n",
    "    return coord_list.str[2]"
   ]
  },
  {
   "cell_type": "code",
   "execution_count": 5,
   "id": "5ee4165f",
   "metadata": {},
   "outputs": [],
   "source": [
    "def esperanza_get_attribute(check_dict, attr):\n",
    "    if pd.isnull(check_dict):\n",
    "        return check_dict\n",
    "    return check_dict[attr]"
   ]
  },
  {
   "cell_type": "code",
   "execution_count": 6,
   "id": "aa77bd5c",
   "metadata": {},
   "outputs": [],
   "source": [
    "def esperanza_clean_basic(df, col_name):\n",
    "    col = df.get(col_name)\n",
    "    ids = col.transform(esperanza_get_id)\n",
    "    names = col.transform(esperanza_get_name)\n",
    "    df[col_name + \"_id\"] = ids\n",
    "    df[col_name + \"_name\"] = names\n",
    "    return df.drop(col_name, axis = 1)"
   ]
  },
  {
   "cell_type": "code",
   "execution_count": 7,
   "id": "cd46913a",
   "metadata": {},
   "outputs": [],
   "source": [
    "def esperanza_clean_basic_2(df, col_name, sub_name):\n",
    "    col = df.get(col_name)\n",
    "    ids = col.apply(esperanza_get_keyword_id, args = (sub_name, ))\n",
    "    names = col.apply(get_keyword_name, args = (sub_name, ))\n",
    "    df[col_name + \"_\" + sub_name + \"_id\"] = ids\n",
    "    df[col_name + \"_\" + sub_name + \"_name\"] = names\n",
    "    return df\n",
    "    "
   ]
  },
  {
   "cell_type": "code",
   "execution_count": 9,
   "id": "13b3b36a",
   "metadata": {},
   "outputs": [],
   "source": [
    "# this will return a cleaned dataframe for all of these columns:\n",
    "# type, possession_team, play_pattern, team, player, position, interception, substitution, bad_behaviour, and pass\n",
    "def esperanza_clean_total(df):\n",
    "    clean_basic_list = ['type', 'possession_team', 'play_pattern', 'team', 'player', 'position']\n",
    "    for col in clean_basic_list:\n",
    "        df = esperanza_clean_basic(df, col)\n",
    "        \n",
    "    clean_basic_list_2 = ['interception', 'substitution', 'bad_behaviour', 'pass']\n",
    "    for col in clean_basic_list_2:\n",
    "        if col == 'interception':\n",
    "            df = esperanza_clean_basic_2(df, col, 'outcome')\n",
    "\n",
    "        if col == 'substitution':\n",
    "            df = esperanza_clean_basic_2(df, col, 'outcome')\n",
    "            df = esperanza_clean_basic_2(df, col, 'replacement')\n",
    "\n",
    "        if col == 'bad_behaviour':\n",
    "            df = esperanza_clean_basic_2(df, col, 'card')\n",
    "\n",
    "        if col == 'pass':\n",
    "            ser = df.get(col)\n",
    "            df[col + '_length'] = ser.apply(esperanza_get_attribute, args = ('length', ))\n",
    "            df[col + '_angle'] = ser.apply(esperanza_get_attribute, args = ('angle', ))\n",
    "            df = esperanza_clean_basic_2(df, col, 'recipient')\n",
    "            df = esperanza_clean_basic_2(df, col, 'height')\n",
    "            df = esperanza_clean_basic_2(df, col, 'type')\n",
    "            df = esperanza_clean_basic_2(df, col, 'body_part')\n",
    "            df[col + '_end_location_x'] = ser.apply(esperanza_get_attribute, args = ('end_location', )).transform(esperanza_coord_x)\n",
    "            df[col + '_end_location_y'] = ser.apply(esperanza_get_attribute, args = ('end_location', )).transform(esperanza_coord_y)\n",
    "\n",
    "\n",
    "        df = df.drop(col, axis = 1)\n",
    "        \n",
    "    locations = df.get(\"location\")\n",
    "    df[\"location_x\"] = locations.transform(coord_x)\n",
    "    df[\"location_y\"] = locations.transform(coord_y)\n",
    "    df = df.drop('location', axis = 1)\n",
    "    \n",
    "    return df"
   ]
  },
  {
   "cell_type": "code",
   "execution_count": 10,
   "id": "b5f37b7a",
   "metadata": {},
   "outputs": [],
   "source": [
    "# need to run this carefully because the table returned should be kept separately from other files here\n",
    "\n",
    "def esperanza_clean_related_events(df):\n",
    "    reduced = df[[\"id\", \"related_events\"]]\n",
    "    related = reduced.explode('related_events').reset_index(drop = True)\n",
    "    # all this does is have two columns - id and related events as a list - not sure if anything else is wanted\n",
    "    \n",
    "    return related"
   ]
  }
 ],
 "metadata": {
  "kernelspec": {
   "display_name": "Python 3 (ipykernel)",
   "language": "python",
   "name": "python3"
  },
  "language_info": {
   "codemirror_mode": {
    "name": "ipython",
    "version": 3
   },
   "file_extension": ".py",
   "mimetype": "text/x-python",
   "name": "python",
   "nbconvert_exporter": "python",
   "pygments_lexer": "ipython3",
   "version": "3.9.5"
  }
 },
 "nbformat": 4,
 "nbformat_minor": 5
}
